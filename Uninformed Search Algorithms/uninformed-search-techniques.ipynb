{
 "cells": [
  {
   "cell_type": "markdown",
   "metadata": {},
   "source": [
    "> [*JaberAlJ*](https://github.com/JaberAlJ)"
   ]
  },
  {
   "cell_type": "markdown",
   "metadata": {},
   "source": [
    "# Uninformed Search Techniques\n",
    "\n",
    "## Contents  <a class=\"anchor\" id=\"top\"></a>\n",
    "* [1 Objectives](#objectives)\n",
    "* [2 Overview](#overview)\n",
    "* [3 Setting Up](#settingup)\n",
    "* [4 Code for the 8-puzzle Problem](#puzzle)\n",
    "* [5 Code for the Path Finding Problem](#path)\n",
    "\n",
    "## 1 Objectives <a class=\"anchor\" id=\"objectives\"></a>\n",
    "\n",
    "* To identify the building blocks of uninformed search algorithms and implement them.\n",
    "* To apply uninformed search techniques to puzzle solving and path-finding problems.\n",
    "* To differentiate between breadth-first (BFS), depth-first (DFS), depth-limited (DLS), and depth first iterative deepening (DFID) search algorithms.\n",
    "* To compare the performance of the above search algorithms when used to solve simple problems.\n",
    "\n",
    "### 1.1 Required Submission and Marking Scheme\n",
    "\n",
    "This lab has a total of $10$ marks and worth $5\\%$ of the course total. You should complete the following activities, each is worth $2$ marks:\n",
    "\n",
    "* [Activity 5](#act5): Implementation of the *BFS* search algorithm for solving the 8-puzzle problem.\n",
    "* [Activity 6](#act6): Implementation of the *DFID* search algorithm for solving the 8-puzzle problem.\n",
    "* [Activity 7](#act7): Questions based on the implementations of `BFSSlover`,  `DFSSlover` and `DFIDSlover`.\n",
    "* [Activity 9](#act9): Write the `DFIDPath` client code.\n",
    "* [Activity 10](#act10): Fix the code of `dfs_path.py` and write the client code for `DFSPath` class."
   ]
  },
  {
   "cell_type": "markdown",
   "metadata": {},
   "source": [
    "## 2 Overview  <a class=\"anchor\" id=\"overview\"></a>\n",
    "\n",
    "One of the fundamental techniques in artificial intelligence is solving problems through search. A search problem is represented as a _state space graph_ or a _search tree_. In either representation, nodes correspond to problem situations, and a given problem is reduced to finding a path between a _start_ node and a _goal_ node. In this lab, we look into how to use uninformed search algorithms to solve two problems: the _N-puzzle_ problem and _finding a path_ between two vertices in an _undirected_ graph. "
   ]
  },
  {
   "cell_type": "markdown",
   "metadata": {},
   "source": [
    "## 3 Setting Up <a class=\"anchor\" id=\"settingup\"></a>\n",
    "\n",
    "To complete this lab, you will familiarize yourself with the structure of the code associated with this notebook. \n",
    "\n",
    "#### Activity 1 <a class=\"anchor\" id=\"act1\"></a> &nbsp; [Top](#top)\n",
    "\n",
    "Based on the structure of the files in this Lab answer each of the following questions.\n",
    "\n",
    "* Study the the structure of the files associated with the notebook. Fill the list `packes` below with the names of modules used to organize the code.\n",
    "\n",
    "* What are the sub-folders under the `data` folder? Fill in the list `data` with the names of these sub-folders."
   ]
  },
  {
   "cell_type": "code",
   "execution_count": 1,
   "metadata": {},
   "outputs": [],
   "source": [
    "### START CODE HERE  (Activity 1) ###\n",
    "\n",
    "# Fill the list below with the names of packages used to organize the code. (list of strings)\n",
    "packages = ['search.graph', 'search.puzzle', 'stdlib']          \n",
    "\n",
    "# Fill the list below with the names of the sub-folders in the data folder. (list of strings)\n",
    "data   = ['graph', 'puzzle'] \n",
    "\n",
    "### END CODE HERE ###"
   ]
  },
  {
   "cell_type": "markdown",
   "metadata": {},
   "source": [
    "## 4 Code for the 8-puzzle Problem <a class=\"anchor\" id=\"puzzle\"></a>\n",
    "\n",
    "The 8-puzzle problem is a puzzle invented and popularized by Noyes Palmer Chapman in the 1870s. It is played on a 3-by-3 grid with 8 square blocks labelled 1 through 8 and a blank square. Your goal is to rearrange the blocks so that they are in order. You are permitted to slide blocks horizontally or vertically into the blank square. The following shows a sequence of legal moves from an initial board position (left) to the goal position (right). \n",
    "```\n",
    "   1  3        1     3        1  2  3        1  2  3        1  2  3\n",
    "4  2  5   =>   4  2  5   =>   4     5   =>   4  5      =>   4  5  6\n",
    "7  8  6        7  8  6        7  8  6        7  8  6        7  8 \n",
    "\n",
    "initial                                                      goal\n",
    "```\n",
    "\n",
    "In the following sections, we present an implementation of the _depth-first_ search algorithm to solve this problem. In the following activities, you shall implement the __breadth-first__ and __iterative deepening__ algorithms that solve this problem. Last, you will compare the performance of the different search algorithms on solving the 8-puzzle problem. Note that you are provided with both _depth-first_ and _depth-limited_ search algorithms. "
   ]
  },
  {
   "cell_type": "markdown",
   "metadata": {},
   "source": [
    "### 4.1 `DFSSolver`, A class that solves the 8-puzzle problem\n",
    "\n",
    "In this section we present the DFS implementation for solving the 8-puzzle problem. The class that contains the implementation is found in `search/puzzle/dfs_solver.py`. In this class a method named `__dfs()` implements the _depth-first search_ algorithm for solving the 8-puzzle problem. Note that we only show the relevant method that contains the code for the algorithm. The remaining code is found in `dfs_solver.py`."
   ]
  },
  {
   "cell_type": "markdown",
   "metadata": {},
   "source": [
    "```\n",
    " 1:      def __dfs(self, initial:Board):\n",
    " 2:          \"\"\"\n",
    " 3:          Run Depth-First Search on the initial board\n",
    " 4:          \"\"\"\n",
    " 5:          agenda = Stack()\n",
    " 6:          visited = []\n",
    " 7:  \n",
    " 8:          # create a new node and add it to the agenda\n",
    " 9:          firstNode = Node(initial, 0, 0, None)\n",
    "10:          agenda.push(firstNode)\n",
    "11:  \n",
    "12:          # DFS loop\n",
    "13:          while not(agenda.isEmpty()):\n",
    "14:              node:Node = agenda.pop()\n",
    "15:  \n",
    "16:              # if the board is not visited \n",
    "17:              if not(node.state in visited):\n",
    "18:  \n",
    "19:                  # add the state to visited\n",
    "20:                  visited.append(node.state)\n",
    "21:  \n",
    "22:                  if node.state.is_goal():\n",
    "23:                      # found the goal\n",
    "24:                      self._goal = node\n",
    "25:                      self._found = True\n",
    "26:                      break\n",
    "27:  \n",
    "28:                  # put the successor nodes in the agenda\n",
    "29:                  for successor in node.state.neighbors():\n",
    "30:  \n",
    "31:                      # create a succesor node and add it to agenda\n",
    "32:                      # for time being the cost to a node from a parent is 1\n",
    "33:                      neigborN = Node(successor, node.depth + 1, node.cost + 1, node)\n",
    "34:  \n",
    "35:                      agenda.push(neigborN)\n",
    "```"
   ]
  },
  {
   "cell_type": "markdown",
   "metadata": {},
   "source": [
    "#### 4.1.1 What do you see for the first time in `__dfs()`"
   ]
  },
  {
   "cell_type": "markdown",
   "metadata": {},
   "source": [
    "*  In Line $1$ we create a method named `__dfs()` which takes a single parameter, specifically an _initial_\n",
    "\tunsolved puzzle board.\n",
    "*  In Line $5$ and $6$ we create the two data structures that are needed to keep track of the _search tree_. The `agenda` is a `stack` of `nodes` in search-tree. A `Node` class has four member variables: a _state_ configuration (i.e., a board), the _depth_ of node in the search tree, the _cost_ to get to the node in the tree, and a pointer the _parent_ node. The `Node` class is defined in the same package as the `DFSSolver` class. The `visited` object is an instance of python list. We use this object to maintain a list of nodes that has been encountered by the search algorithm.\n",
    "\n",
    "* Lines $12$ - $35$ contains the main loop of the DFS algorithm. We iterate over the agenda as long as it is not empty. Note that if we find a solution to a puzzle we exit this loop, after we save the goal node and set `found` to `True`, hence the `break` statement in line $26$.\n",
    "\n",
    "* Lines $29$ to $35$ implement the logic of adding successor nodes into the \\code{agenda}. We iterate over the neighbors of a board using the `neighbors()` method defined by the `Board` class. The property `node.state` in line $29$ returns an object of type `Board` which is to call the `neighbors()`. The method `neighbors()`, apply the possible moves to a board (i.e., _left_, _up_, _right_ or _down_) and return new board configuration based on the move that been made."
   ]
  },
  {
   "cell_type": "markdown",
   "metadata": {},
   "source": [
    "### 4.2 Activites on the 8-Puzzle Problem\n",
    "\n",
    "#### Activity 2 <a class=\"anchor\" id=\"act2\"></a> &nbsp; [Top](#top)\n",
    "\n",
    "Having completed Activity 1, explore that code and input files that has been provided for solving the 8-puzzle problem. Answer or note each of the following.\n",
    "\n",
    "* What is the name of the package that contains the 8-puzzle code? Fill in the variable name below.\n",
    "* What are the code files that contain the **complete** implementation for search algorithms? Fill in the list named `complete_code`"
   ]
  },
  {
   "cell_type": "code",
   "execution_count": 2,
   "metadata": {},
   "outputs": [],
   "source": [
    "### START CODE HERE  (Activity 2) ###\n",
    "\n",
    "# Fill the list below with the names of package that contains the 8-puzzle code  (str)\n",
    "puzzle_package = 'search.puzzle'          \n",
    "\n",
    "# Fill in list below with the names of the files that contain complete implementation (list of strings)\n",
    "complete_code   = ['dfs_solver.py', 'dls_solver.py']\n",
    "\n",
    "### END CODE HERE ###"
   ]
  },
  {
   "cell_type": "markdown",
   "metadata": {},
   "source": [
    "#### The `DFSSolver` Client Code\n",
    "\n",
    "Study the code provided to you in `dfs_solver.py` and `dls_solver.py`. Below you will find the client code for using the classes `DFSSolver` and `DLSSolver`. Run each of the code cells below and answer the questions that follow.\n",
    "\n",
    "Next, study the code below which shows how to use the `DFSSolver` to solve a given puzzle. "
   ]
  },
  {
   "cell_type": "code",
   "execution_count": 3,
   "metadata": {},
   "outputs": [
    {
     "name": "stdout",
     "output_type": "stream",
     "text": [
      "DFS finished in 0.00 seconds\n",
      "Found the solution after 1 moves\n",
      "Number of moves = 1\n",
      " 1  2 \n",
      " 0  3 \n",
      "\n",
      " 1  2 \n",
      " 3  0 \n",
      "\n"
     ]
    }
   ],
   "source": [
    "from search.puzzle import Board      # used for the board configuration\n",
    "from stdlib import StopwatchCPU      # a utility to compute the execution time in second\n",
    "from search.puzzle import DFSSolver  # the solver class\n",
    "\n",
    "# create a board by reading from a file\n",
    "board = Board(filename=\"data/puzzle/puzzle2x2-01.txt\")\n",
    "\n",
    "# create timer object\n",
    "timer = StopwatchCPU()\n",
    "\n",
    "# create a solver\n",
    "solver = DFSSolver(board)\n",
    "\n",
    "# print how long it took to solve the puzzle\n",
    "print(\"DFS finished in {0:.2f} seconds\".format(timer.elapsedTime()))\n",
    "\n",
    "# if we found the goal\n",
    "if solver.found:\n",
    "    print(f\"Found the solution after {solver.moves} moves\")\n",
    "    solver.print_solution() # uncomment this line to see the solution\n",
    "else:\n",
    "    print(\"No solution found\")"
   ]
  },
  {
   "cell_type": "markdown",
   "metadata": {},
   "source": [
    "#### Activity 3 <a class=\"anchor\" id=\"act3\"></a> &nbsp; [Top](#top)\n",
    "\n",
    "Run the `DFSSolver` on `puzzle2x2-01.txt`, `puzzle3x3-01.txt`, and `puzzle3x3-02.txt`. How long it takes solve each board in seconds? What is the number of moves for each case?"
   ]
  },
  {
   "cell_type": "code",
   "execution_count": 4,
   "metadata": {},
   "outputs": [],
   "source": [
    "### START CODE HERE  (Activity 3) ###\n",
    "\n",
    "# Fill in the following variables with time (in seconds) for solving each of the boards. (float)\n",
    "dfs_time_puzzle_2_2_1 = 0.00          # time for puzzle2x2-01.txt\n",
    "dfs_time_puzzle_3_3_1 = 989.44        # time for puzzle3x3-01.txt\n",
    "dfs_time_puzzle_3_3_2 = 2560.66       # time for puzzle3x3-02.txt\n",
    "\n",
    "# Fill in the number of moves taking to solve each of the boards, (int)\n",
    "dfs_moves_puzzle_2_2_1 = 1           # moves for puzzle2x2-01.txt\n",
    "dfs_moves_puzzle_3_3_1 = 58574       # moves for puzzle3x3-01.txt\n",
    "dfs_moves_puzzle_3_3_2 = 90195       # moves for puzzle3x3-02.txt\n",
    "\n",
    "### END CODE HERE ###"
   ]
  },
  {
   "cell_type": "markdown",
   "metadata": {},
   "source": [
    "#### The `DLSSolver` Client Code\n",
    "\n",
    "Study the client code for solving the 8-puzzle problem using the *depth_limited_search* approached. Note that the limit is passed as a parameter to the constructor of the `DLSSolver` class."
   ]
  },
  {
   "cell_type": "code",
   "execution_count": 5,
   "metadata": {},
   "outputs": [
    {
     "name": "stdout",
     "output_type": "stream",
     "text": [
      "DLS finished in 0.16 seconds\n",
      "Found the solution after 11 moves\n",
      "Depth = 13\n",
      "Number of moves = 11\n",
      " 1  0  2 \n",
      " 7  5  4 \n",
      " 8  6  3 \n",
      "\n",
      " 1  5  2 \n",
      " 7  0  4 \n",
      " 8  6  3 \n",
      "\n",
      " 1  5  2 \n",
      " 7  4  0 \n",
      " 8  6  3 \n",
      "\n",
      " 1  5  2 \n",
      " 7  4  3 \n",
      " 8  6  0 \n",
      "\n",
      " 1  5  2 \n",
      " 7  4  3 \n",
      " 8  0  6 \n",
      "\n",
      " 1  5  2 \n",
      " 7  4  3 \n",
      " 0  8  6 \n",
      "\n",
      " 1  5  2 \n",
      " 0  4  3 \n",
      " 7  8  6 \n",
      "\n",
      " 1  5  2 \n",
      " 4  0  3 \n",
      " 7  8  6 \n",
      "\n",
      " 1  0  2 \n",
      " 4  5  3 \n",
      " 7  8  6 \n",
      "\n",
      " 1  2  0 \n",
      " 4  5  3 \n",
      " 7  8  6 \n",
      "\n",
      " 1  2  3 \n",
      " 4  5  0 \n",
      " 7  8  6 \n",
      "\n",
      " 1  2  3 \n",
      " 4  5  6 \n",
      " 7  8  0 \n",
      "\n"
     ]
    }
   ],
   "source": [
    "from search.puzzle import Board      # used for the board configuration\n",
    "from stdlib import StopwatchCPU      # a utility to compute the execution time in second\n",
    "from search.puzzle import DLSSolver  # the solver class\n",
    "\n",
    "# create a board by reading from a file\n",
    "board = Board(filename=\"data/puzzle/puzzle3x3-02.txt\")\n",
    "\n",
    "# create timer object\n",
    "timer = StopwatchCPU()\n",
    "\n",
    "# create a solver\n",
    "solver = DLSSolver(board, limit=13)\n",
    "\n",
    "# print how long it took to solve the puzzle\n",
    "print(\"DLS finished in {0:.2f} seconds\".format(timer.elapsedTime()))\n",
    "\n",
    "# if we found the goal\n",
    "if solver.found:\n",
    "    print(f\"Found the solution after {solver.moves} moves\")\n",
    "    solver.print_solution() # uncomment this line to see the solution\n",
    "else:\n",
    "    print(\"No solution found\")"
   ]
  },
  {
   "cell_type": "markdown",
   "metadata": {},
   "source": [
    "#### Activity 4 <a class=\"anchor\" id=\"act4\"></a> &nbsp; [Top](#top)\n",
    "\n",
    "Run the `DLSSolver` on `puzzle2x2-01.txt`, `puzzle3x3-01.txt`, and `puzzle3x3-02.txt`. How long it takes solve each board in seconds? What is the number of moves for each case? At what depth does DLS find a solution to each one of these boards?"
   ]
  },
  {
   "cell_type": "code",
   "execution_count": 6,
   "metadata": {},
   "outputs": [],
   "source": [
    "### START CODE HERE  (Activity 4) ###\n",
    "\n",
    "# Fill in the following variables with time (in seconds) for solving each of the boards. (float)\n",
    "dls_time_puzzle_2_2_1 = 0.00       # time for puzzle2x2-01.txt\n",
    "dls_time_puzzle_3_3_1 = 0.01       # time for puzzle3x3-01.txt\n",
    "dls_time_puzzle_3_3_2 = 0.17       # time for puzzle3x3-02.txt\n",
    "\n",
    "# Fill in the number of moves taking to solve each of the boards, (int)\n",
    "dls_moves_puzzle_2_2_1 = 1        # moves for puzzle2x2-01.txt\n",
    "dls_moves_puzzle_3_3_1 = 8        # moves for puzzle3x3-01.txt\n",
    "dls_moves_puzzle_3_3_2 = 11       # moves for puzzle3x3-02.txt\n",
    "\n",
    "# Fill in the following variables depth found by DLS to solve the boards. (int)\n",
    "dls_depth_puzzle_2_2_1 = 1        # depth for puzzle2x2-01.txt\n",
    "dls_depth_puzzle_3_3_1 = 8        # depth for puzzle3x3-01.txt\n",
    "dls_depth_puzzle_3_3_2 = 13       # depth for puzzle3x3-02.txt\n",
    "\n",
    "### END CODE HERE ###"
   ]
  },
  {
   "cell_type": "markdown",
   "metadata": {},
   "source": [
    "#### Activity 5 <a class=\"anchor\" id=\"act5\"></a> &nbsp; [Top](#top)\n",
    "\n",
    "Using the implementation of `__dfs()` as a template, complete the code in `bfs_solver.py` by implementing the `__bfs()` method. The method should encode the breadth-first search algorithm to solve the 8-puzzle problem. Ensure that your code follows the algorithm we studied in the class.\n",
    "\n",
    "Remember to fill in the following comments at the top of the source code file.\n",
    "\n",
    "```Python\n",
    "# FileName    : bfs_solver.py\n",
    "# Student ID  : <YOUR ID>\n",
    "# Student Name: <YOUR NAME>\n",
    "```"
   ]
  },
  {
   "cell_type": "markdown",
   "metadata": {},
   "source": [
    "#### The `BFSSolver` Client Code\n",
    "\n",
    "Client code for solving the 8-puzzle problem using the *Breadth_First_Search* approached."
   ]
  },
  {
   "cell_type": "code",
   "execution_count": 7,
   "metadata": {},
   "outputs": [
    {
     "name": "stdout",
     "output_type": "stream",
     "text": [
      "BFS finished in 0.14 seconds\n",
      "Found the solution after 11 moves\n",
      "Number of moves = 11\n",
      " 1  0  2 \n",
      " 7  5  4 \n",
      " 8  6  3 \n",
      "\n",
      " 1  5  2 \n",
      " 7  0  4 \n",
      " 8  6  3 \n",
      "\n",
      " 1  5  2 \n",
      " 7  4  0 \n",
      " 8  6  3 \n",
      "\n",
      " 1  5  2 \n",
      " 7  4  3 \n",
      " 8  6  0 \n",
      "\n",
      " 1  5  2 \n",
      " 7  4  3 \n",
      " 8  0  6 \n",
      "\n",
      " 1  5  2 \n",
      " 7  4  3 \n",
      " 0  8  6 \n",
      "\n",
      " 1  5  2 \n",
      " 0  4  3 \n",
      " 7  8  6 \n",
      "\n",
      " 1  5  2 \n",
      " 4  0  3 \n",
      " 7  8  6 \n",
      "\n",
      " 1  0  2 \n",
      " 4  5  3 \n",
      " 7  8  6 \n",
      "\n",
      " 1  2  0 \n",
      " 4  5  3 \n",
      " 7  8  6 \n",
      "\n",
      " 1  2  3 \n",
      " 4  5  0 \n",
      " 7  8  6 \n",
      "\n",
      " 1  2  3 \n",
      " 4  5  6 \n",
      " 7  8  0 \n",
      "\n"
     ]
    }
   ],
   "source": [
    "from search.puzzle import Board      # used for the board configuration\n",
    "from stdlib import StopwatchCPU      # a utility to compute the execution time in second\n",
    "from search.puzzle import BFSSolver  # the solver class\n",
    "\n",
    "# create a board by reading from a file\n",
    "board = Board(filename=\"data/puzzle/puzzle3x3-02.txt\")\n",
    "\n",
    "# create timer object\n",
    "timer = StopwatchCPU()\n",
    "\n",
    "# create a solver\n",
    "solver = BFSSolver(board)\n",
    "\n",
    "# print how long it took to solve the puzzle\n",
    "print(\"BFS finished in {0:.2f} seconds\".format(timer.elapsedTime()))\n",
    "\n",
    "# if we found the goal\n",
    "if solver.found:\n",
    "    print(f\"Found the solution after {solver.moves} moves\")\n",
    "    solver.print_solution() # uncomment this line to see the solution\n",
    "else:\n",
    "    print(\"No solution found\")"
   ]
  },
  {
   "cell_type": "markdown",
   "metadata": {},
   "source": [
    "Run the `BFSSolver` on `puzzle2x2-01.txt`, `puzzle3x3-01.txt`, and `puzzle3x3-02.txt`. How long it takes solve each board in seconds? What is the number of moves for each case?"
   ]
  },
  {
   "cell_type": "code",
   "execution_count": 8,
   "metadata": {},
   "outputs": [],
   "source": [
    "# Fill in the following variables with time (in seconds) for solving each of the boards. (float)\n",
    "bfs_time_puzzle_2_2_1 = 0.00       # time for puzzle2x2-01.txt\n",
    "bfs_time_puzzle_3_3_1 = 0.02       # time for puzzle3x3-01.txt\n",
    "bfs_time_puzzle_3_3_2 = 0.13       # time for puzzle3x3-02.txt\n",
    "\n",
    "# Fill in the number of moves taking to solve each of the boards, (int)\n",
    "bfs_moves_puzzle_2_2_1 = 1       # moves for puzzle2x2-01.txt\n",
    "bfs_moves_puzzle_3_3_1 = 8       # moves for puzzle3x3-01.txt\n",
    "bfs_moves_puzzle_3_3_2 = 11       # moves for puzzle3x3-02.txt\n",
    "\n",
    "### END CODE HERE ###"
   ]
  },
  {
   "cell_type": "markdown",
   "metadata": {},
   "source": [
    "#### Activity 6 <a class=\"anchor\" id=\"act6\"></a> &nbsp; [Top](#top)\n",
    "\n",
    "The file `dls_solver.py` has an implementation of the depth-limited search (DLS) algorithm. Unfortunately, as we have learned in the lectures, DLS is *incomplete*. However, a simple extension to DLS is the depth-first iterative deepening (DFID) algorithm which repeatedly calls DLS until it finds a solution or runs out of search options. \n",
    "\n",
    "Using the implementation of the DLS algorithm, implement DFID by completing the code in `dfid_solver.py`. Ensure that your code follows the algorithm that we studied in the class. \n",
    "\n",
    "Remember to fill in the following comments at the top of the source code file.\n",
    "\n",
    "```Python\n",
    "# FileName    : dfid_solver.py\n",
    "# Student ID  : <YOUR ID>\n",
    "# Student Name: <YOUR NAME>\n",
    "```"
   ]
  },
  {
   "cell_type": "markdown",
   "metadata": {},
   "source": [
    "#### The `DFIDSolver` Client Code\n",
    "\n",
    "Client code for solving the 8-puzzle problem using the *Depth_First_Iterative_Deepening* approached."
   ]
  },
  {
   "cell_type": "code",
   "execution_count": 9,
   "metadata": {},
   "outputs": [
    {
     "name": "stdout",
     "output_type": "stream",
     "text": [
      "DLS finished in 0.37 seconds\n",
      "Found the solution after 11 moves\n",
      "Depth = 13\n",
      "Number of moves = 11\n",
      " 1  0  2 \n",
      " 7  5  4 \n",
      " 8  6  3 \n",
      "\n",
      " 1  5  2 \n",
      " 7  0  4 \n",
      " 8  6  3 \n",
      "\n",
      " 1  5  2 \n",
      " 7  4  0 \n",
      " 8  6  3 \n",
      "\n",
      " 1  5  2 \n",
      " 7  4  3 \n",
      " 8  6  0 \n",
      "\n",
      " 1  5  2 \n",
      " 7  4  3 \n",
      " 8  0  6 \n",
      "\n",
      " 1  5  2 \n",
      " 7  4  3 \n",
      " 0  8  6 \n",
      "\n",
      " 1  5  2 \n",
      " 0  4  3 \n",
      " 7  8  6 \n",
      "\n",
      " 1  5  2 \n",
      " 4  0  3 \n",
      " 7  8  6 \n",
      "\n",
      " 1  0  2 \n",
      " 4  5  3 \n",
      " 7  8  6 \n",
      "\n",
      " 1  2  0 \n",
      " 4  5  3 \n",
      " 7  8  6 \n",
      "\n",
      " 1  2  3 \n",
      " 4  5  0 \n",
      " 7  8  6 \n",
      "\n",
      " 1  2  3 \n",
      " 4  5  6 \n",
      " 7  8  0 \n",
      "\n"
     ]
    }
   ],
   "source": [
    "from search.puzzle import Board      # used for the board configuration\n",
    "from stdlib import StopwatchCPU      # a utility to compute the execution time in second\n",
    "from search.puzzle import DFIDSolver  # the solver class\n",
    "\n",
    "# create a board by reading from a file\n",
    "board = Board(filename=\"data/puzzle/puzzle3x3-02.txt\")\n",
    "\n",
    "# create timer object\n",
    "timer = StopwatchCPU()\n",
    "\n",
    "# create a solver\n",
    "solver = DFIDSolver(board)\n",
    "\n",
    "# print how long it took to solve the puzzle\n",
    "print(\"DLS finished in {0:.2f} seconds\".format(timer.elapsedTime()))\n",
    "\n",
    "# if we found the goal\n",
    "if solver.found:\n",
    "    print(f\"Found the solution after {solver.moves} moves\")\n",
    "    solver.print_solution() # uncomment this line to see the solution\n",
    "else:\n",
    "    print(\"No solution found\")"
   ]
  },
  {
   "cell_type": "markdown",
   "metadata": {},
   "source": [
    "Run the `DFIDSolver` on `puzzle2x2-01.txt`, `puzzle3x3-01.txt`, and `puzzle3x3-02.txt`. How long it takes solve each board in seconds? What is the number of moves for each case? At what depth does DFID find a solution to each one of these boards?"
   ]
  },
  {
   "cell_type": "code",
   "execution_count": 10,
   "metadata": {},
   "outputs": [],
   "source": [
    "# Fill in the following variables with time (in seconds) for solving each of the boards. (float)\n",
    "dfid_time_puzzle_2_2_1 = 0.00       # time for puzzle2x2-01.txt\n",
    "dfid_time_puzzle_3_3_1 = 0.02       # time for puzzle3x3-01.txt\n",
    "dfid_time_puzzle_3_3_2 = 0.36       # time for puzzle3x3-02.txt\n",
    "\n",
    "# Fill in the number of moves taking to solve each of the boards, (int)\n",
    "dfid_moves_puzzle_2_2_1 = 1        # moves for puzzle2x2-01.txt\n",
    "dfid_moves_puzzle_3_3_1 = 8        # moves for puzzle3x3-01.txt\n",
    "dfid_moves_puzzle_3_3_2 = 11       # moves for puzzle3x3-02.txt\n",
    "\n",
    "# Fill in the following variables depth found by DLS to solve the boards. (int)\n",
    "dfid_depth_puzzle_2_2_1 = 1        # depth for puzzle2x2-01.txt\n",
    "dfid_depth_puzzle_3_3_1 = 8        # depth for puzzle3x3-01.txt\n",
    "dfid_depth_puzzle_3_3_2 = 13       # depth for puzzle3x3-02.txt\n",
    "\n",
    "### END CODE HERE ###"
   ]
  },
  {
   "cell_type": "markdown",
   "metadata": {},
   "source": [
    "#### Activity 7 <a class=\"anchor\" id=\"act7\"></a> &nbsp; [Top](#top)\n",
    "\n",
    "Based on the implementations of `BFSSolver`, `DFSSolver`, and `DFIDSolver`, answer all the following questions. \n",
    "\n",
    "* __Q1__ What is the minimum number of moves required for solving the puzzle in `puzzle3x3-02.txt`?"
   ]
  },
  {
   "cell_type": "code",
   "execution_count": 11,
   "metadata": {},
   "outputs": [],
   "source": [
    "### START CODE HERE  (Activity 7: Q1) ###\n",
    "\n",
    "# minimum number of moves required for solving the puzzle `puzzle3x3-02.txt`. (int)\n",
    "min_puzzle_3_3_2 = 11       # minimum moves to solve  puzzle3x3-02.txt\n",
    "\n",
    "### END CODE HERE ###"
   ]
  },
  {
   "cell_type": "markdown",
   "metadata": {},
   "source": [
    "* __Q2__ How many moves does it take **DFS** to solve`puzzle3x3-02.txt`? How many moves doe **BFS** and **DFID** take for the same puzzle?"
   ]
  },
  {
   "cell_type": "code",
   "execution_count": 12,
   "metadata": {},
   "outputs": [],
   "source": [
    "### START CODE HERE  (Activity 7: Q2) ###\n",
    "\n",
    "# moves to solve puzzle3x3-02 using DFS, BFS and DFID (int)\n",
    "moves_puzzle_3_3_2_dfs  = 90195         # DFS  moves to solve puzzle3x3-02.txt\n",
    "moves_puzzle_3_3_2_bfs  = 11            # BFS  moves to solve puzzle3x3-02.txt\n",
    "moves_puzzle_3_3_2_dfid = 11            # DFID moves to solve puzzle3x3-02.txt\n",
    "\n",
    "### END CODE HERE ###"
   ]
  },
  {
   "cell_type": "markdown",
   "metadata": {},
   "source": [
    "* __Q3__ Which algorithms is better in terms of the time taken to solve a puzzle, **DFS**, **BFS**, or **DFID**? Explain your answer based on the results of running these algorithm on both `puzzle3x3-01.txt` and `puzzle3x3-02.txt`. Write your answer as triple triple-quoted string at the cell below."
   ]
  },
  {
   "cell_type": "code",
   "execution_count": 13,
   "metadata": {},
   "outputs": [],
   "source": [
    "### START CODE HERE  (Activity 7: Q2) ###\n",
    "\n",
    "answer = \"\"\"\n",
    "based on running these algorithm `puzzle3x3-01.txt` and `puzzle3x3-02.txt` \n",
    "the results of these algorithm as following:\n",
    "\n",
    "- DFS solver took's 989.44 sec to solve puzzle3x3-01 and 2560.66 sec to solve puzzle3x3-02\n",
    "\n",
    "- BFS solver took's 0.02 sec to solve puzzle3x3-01 and 0.13 sec to solve puzzle3x3-02\n",
    "\n",
    "- DFID solver took's 0.02 sec to solve puzzle3x3-01 and 0.36 sec to solve puzzle3x3-02\n",
    "\n",
    "So, I can conclude that BFS is the better algorithm in terms of the time token \n",
    "to solve these puzzle(`puzzle3x3-01.txt` and `puzzle3x3-02.txt`), also in terms of optimality and completely.\n",
    "\"\"\"\n",
    "\n",
    "### END CODE HERE ###"
   ]
  },
  {
   "cell_type": "markdown",
   "metadata": {},
   "source": [
    "## 5 Code for the Path Finding Problem\n",
    "Path finding problems are common and they are manifested in a variety of applications. Some, such as Web sites and in-car navigation systems can be defined in terms of locations and transitions along link among them. Others, such as video streaming in computer networks and airline travel planning require more complex specifications. \n",
    "\n",
    "In the code that comes with this lab you have implementations of *BFS*, *DLS* and *DFID* for finding the path between two nodes in an undirected graph. You have been also provided an **erroneous implementation of DFS** which you will have to fix in the following activities.\n",
    "\n",
    "### 5.1 Activities on the Path Finding Problem <a class=\"anchor\" id=\"path\"></a>\n",
    "\n",
    "#### Activity 8 <a class=\"anchor\" id=\"act8\"></a> &nbsp; [Top](#top)\n",
    "Explore the code and input files that associated with this lab and answer each of the following. questions\n",
    "\n",
    "* What is the name of the package that contains the path-finding code?\n",
    "* Study the input files `tinyG.txt` and `mediumG.txt`? How many vertices and edges in graphs defined by these files?\n",
    "* Draw the graph that corresponds to `tinyG.txt`. Can you identify any cycles in this graph. Write down at least one cycle in the cell below. "
   ]
  },
  {
   "cell_type": "code",
   "execution_count": 14,
   "metadata": {},
   "outputs": [],
   "source": [
    "### START CODE HERE  (Activity 8) ###\n",
    "\n",
    "# Fill in the name of the package the contains the path-finding code (str)\n",
    "path_package = 'search.graph'\n",
    "\n",
    "\n",
    "# fill in number vertices and edges graphs defined in tinyG.txt and mediumG.txt (int)\n",
    "tiny_g_vertices   = 13        # number of vertices in tinyG.txt\n",
    "tiny_g_edges      = 13        # number of edges in tinyG.txt  \n",
    "medium_g_vertices = 250       # number of vertices in mediumG.txt\n",
    "medium_g_edges    = 1273      # number of edges in mediumG.txt\n",
    "\n",
    "\n",
    "# write down one cycle in tinyG.txt using the format (v1->v2->v3->v1) (str)\n",
    "tiny_g_cycle      = '(v5 -> v3 -> v4 -> v5)'      # a cycle in the graph defined by tinyG.txt \n",
    "\n",
    "### END CODE HERE ###"
   ]
  },
  {
   "cell_type": "markdown",
   "metadata": {},
   "source": [
    "#### The `BFSPath` Client Code\n",
    "\n",
    "Study the code provided to you in `bfs_path.py`, `dls_path.py` and `dfid_path.py`. Next run the following client code which uses the `BFSPath` class on `tinyG.txt` and `mediumG.txt`. Try different source and target vertices. Study the outout of the code carefully."
   ]
  },
  {
   "cell_type": "markdown",
   "metadata": {},
   "source": [
    "Using `BFSPath` class on `tinyG.txt`"
   ]
  },
  {
   "cell_type": "code",
   "execution_count": 15,
   "metadata": {},
   "outputs": [
    {
     "name": "stdout",
     "output_type": "stream",
     "text": [
      "Path: 12 -> 9 -> 10\n"
     ]
    }
   ],
   "source": [
    "# import the necessary libraries\n",
    "from stdlib import Graph\n",
    "from search.graph import BFSPath\n",
    "\n",
    "# read a graph from a file\n",
    "graph = Graph(filename=\"data/graph/tinyG.txt\")\n",
    "\n",
    "# try to find a path in graph from 0 to 4\n",
    "# path = BFSPath(graph, 0, 4)\n",
    "\n",
    "# try to find a path in graph from 4 to 0\n",
    "# path = BFSPath(graph, 4, 0)\n",
    "\n",
    "# try to find a path in graph from 7 to 0\n",
    "# path = BFSPath(graph, 0, 7)\n",
    "\n",
    "# try to find a path in graph from 12 to 10\n",
    "path = BFSPath(graph, 12, 10)\n",
    "\n",
    "# print the result \n",
    "if path.found:\n",
    "    path.print_solution() # print the path\n",
    "else:\n",
    "    print(\"No path found\")"
   ]
  },
  {
   "cell_type": "markdown",
   "metadata": {},
   "source": [
    "`DLSPath` class on `tinyG.txt`"
   ]
  },
  {
   "cell_type": "code",
   "execution_count": 16,
   "metadata": {},
   "outputs": [
    {
     "name": "stdout",
     "output_type": "stream",
     "text": [
      "Path: 12 -> 11 -> 9 -> 10\n"
     ]
    }
   ],
   "source": [
    "# import the necessary libraries\n",
    "from stdlib import Graph\n",
    "from search.graph import DLSPath\n",
    "\n",
    "# read a graph from a file\n",
    "graph = Graph(filename=\"data/graph/tinyG.txt\")\n",
    "\n",
    "# try to find a path in graph from 0 to 4, and 2 limit\n",
    "# path = DLSPath(graph, 0, 4, 2)\n",
    "\n",
    "# try to find a path in graph from 4 to 0, and 2 limit\n",
    "# path = DLSPath(graph, 4, 0, 2)\n",
    "\n",
    "# try to find a path in graph from 4 to 0, and 1 limit\n",
    "# path = DLSPath(graph, 4, 0, 1)\n",
    "\n",
    "# try to find a path in graph from 7 to 0, and 1 limit\n",
    "# path = DLSPath(graph, 0, 7, 1)\n",
    "\n",
    "# try to find a path in graph from 12 to 10, and 3 limit\n",
    "path = DLSPath(graph, 12, 10, 3)\n",
    "\n",
    "# print the result\n",
    "if path.found:\n",
    "    path.print_solution() # print the path\n",
    "else:\n",
    "    print(\"No path found\")"
   ]
  },
  {
   "cell_type": "markdown",
   "metadata": {},
   "source": [
    "`DFIDPath` class on `tinyG.txt`"
   ]
  },
  {
   "cell_type": "code",
   "execution_count": 17,
   "metadata": {},
   "outputs": [
    {
     "name": "stdout",
     "output_type": "stream",
     "text": [
      "Path: 12 -> 11 -> 9 -> 10\n",
      "At depth: 3\n"
     ]
    }
   ],
   "source": [
    "# import the necessary libraries\n",
    "from stdlib import Graph\n",
    "from search.graph import DFIDPath\n",
    "\n",
    "# read a graph from a file\n",
    "graph = Graph(filename=\"data/graph/tinyG.txt\")\n",
    "\n",
    "# try to find a path in graph from 0 to 4\n",
    "# path = DFIDPath(graph, 0, 4)\n",
    "\n",
    "# try to find a path in graph from 4 to 0\n",
    "# path = DFIDPath(graph, 4, 0)\n",
    "\n",
    "# try to find a path in graph from 7 to 0\n",
    "# path = DFIDPath(graph, 0, 7)\n",
    "\n",
    "# try to find a path in graph from 12 to 10\n",
    "path = DFIDPath(graph, 12, 10)\n",
    "\n",
    "# print the result\n",
    "if path.found:\n",
    "    path.print_solution() # print the path\n",
    "    print(f\"At depth: {path.depth}\") # print the depth\n",
    "else:\n",
    "    print(\"No path found\")"
   ]
  },
  {
   "cell_type": "markdown",
   "metadata": {},
   "source": [
    "#### Activity 9 <a class=\"anchor\" id=\"act9\"></a> &nbsp; [Top](#top)\n",
    " \n",
    "Using the client code of `BFSPath` as a guide, write the code that uses the implementation of *DFID algorithm* to find the path between any two vertices in the graph defined by `mediumG.txt`."
   ]
  },
  {
   "cell_type": "markdown",
   "metadata": {},
   "source": [
    "Using `DFIDPath` class on `mediumG.txt`"
   ]
  },
  {
   "cell_type": "code",
   "execution_count": 20,
   "metadata": {},
   "outputs": [
    {
     "name": "stdout",
     "output_type": "stream",
     "text": [
      "Path: 1 -> 220 -> 20 -> 247 -> 40 -> 194 -> 61 -> 234 -> 87 -> 136 -> 55 -> 4 -> 240 -> 26 -> 5 -> 226 -> 32 -> 248 -> 44 -> 0\n",
      "At depth: 19\n"
     ]
    }
   ],
   "source": [
    "### START CODE HERE  (Activity 9) ###\n",
    "\n",
    "# import the necessary libraries (two lines)\n",
    "from stdlib import Graph\n",
    "from search.graph import DFIDPath\n",
    "\n",
    "# read a graph from a file (one line)\n",
    "graph = Graph(filename=\"data/graph/mediumG.txt\")\n",
    "\n",
    "# create a DFID path object (one line)\n",
    "# try to find a path in graph from 0 to 4\n",
    "# path = DFIDPath(graph, 0, 4)\n",
    "\n",
    "# try to find a path in graph from 4 to 0\n",
    "# path = DFIDPath(graph, 4, 0)\n",
    "\n",
    "# try to find a path in graph from 0 to 249\n",
    "# path = DFIDPath(graph, 0, 249)\n",
    "\n",
    "# try to find a path in graph from 1 to 0\n",
    "path = DFIDPath(graph, 1, 0)\n",
    "\n",
    "# print the result (4 lines)\n",
    "if path.found:\n",
    "    path.print_solution() # print the path\n",
    "    print(f\"At depth: {path.depth}\") # print the depth\n",
    "else:\n",
    "    print(\"No path found\")\n",
    "\n",
    "### END CODE HERE ###"
   ]
  },
  {
   "cell_type": "markdown",
   "metadata": {},
   "source": [
    "### .other client code"
   ]
  },
  {
   "cell_type": "markdown",
   "metadata": {},
   "source": [
    "Using `BFSPath` class on `mediumG.txt`"
   ]
  },
  {
   "cell_type": "code",
   "execution_count": 18,
   "metadata": {},
   "outputs": [
    {
     "name": "stdout",
     "output_type": "stream",
     "text": [
      "Path: 1 -> 107 -> 173 -> 128 -> 78 -> 77 -> 187 -> 160 -> 0\n"
     ]
    }
   ],
   "source": [
    "# import the necessary libraries\n",
    "from stdlib import Graph\n",
    "from search.graph import BFSPath\n",
    "\n",
    "# read a graph from a file\n",
    "graph = Graph(filename=\"data/graph/mediumG.txt\")\n",
    "\n",
    "# try to find a path in graph from 0 to 4\n",
    "# path = BFSPath(graph, 0, 4)\n",
    "\n",
    "# try to find a path in graph from 4 to 0\n",
    "# path = BFSPath(graph, 4, 0)\n",
    "\n",
    "# try to find a path in graph from 0 to 249\n",
    "# path = BFSPath(graph, 0, 249)\n",
    "\n",
    "# try to find a path in graph from 1 to 0\n",
    "path = BFSPath(graph, 1, 0)\n",
    "\n",
    "# print the result\n",
    "if path.found:\n",
    "    path.print_solution() # print the path\n",
    "else:\n",
    "    print(\"No path found\")"
   ]
  },
  {
   "cell_type": "markdown",
   "metadata": {},
   "source": [
    "Using `DLSPath` class on `mediumG.txt`"
   ]
  },
  {
   "cell_type": "code",
   "execution_count": 19,
   "metadata": {},
   "outputs": [
    {
     "name": "stdout",
     "output_type": "stream",
     "text": [
      "Path: 1 -> 220 -> 20 -> 247 -> 40 -> 194 -> 61 -> 234 -> 87 -> 136 -> 55 -> 4 -> 240 -> 26 -> 5 -> 226 -> 32 -> 248 -> 44 -> 0\n"
     ]
    }
   ],
   "source": [
    "# import the necessary libraries\n",
    "from stdlib import Graph\n",
    "from search.graph import DLSPath\n",
    "\n",
    "# read a graph from a file\n",
    "graph = Graph(filename=\"data/graph/mediumG.txt\")\n",
    "\n",
    "# try to find a path in graph from 0 to 4, and 8 limit\n",
    "# path = DLSPath(graph, 0, 4, 8)\n",
    "\n",
    "# try to find a path in graph from 4 to 0, and 2 limit\n",
    "# path = DLSPath(graph, 4, 0, 2)\n",
    "\n",
    "# try to find a path in graph from 0 to 249, and 22 limit\n",
    "# path = DLSPath(graph, 0, 249, 22)\n",
    "\n",
    "# try to find a path in graph from 1 to 0, and 19 limit\n",
    "path = DLSPath(graph, 1, 0, 19)\n",
    "\n",
    "# print the result\n",
    "if path.found:\n",
    "    path.print_solution() # print the path\n",
    "else:\n",
    "    print(\"No path found\")"
   ]
  },
  {
   "cell_type": "markdown",
   "metadata": {},
   "source": [
    "#### Activity 10 <a class=\"anchor\" id=\"act10\"></a> &nbsp; [Top](#top)\n",
    "\n",
    "The class `DFSPath` provides an implementation for finding a path between two nodes in a graph. The method is called `__dfs()`, and we list its code below.\n",
    "\n",
    "```\n",
    "1:      def __dfs(self, graph:Graph, source:int, goal:int):\n",
    "2:          \"\"\"\n",
    "3:          Run DFS on a graph to find a path from source to goal\n",
    "4:          \"\"\"\n",
    "5:  \n",
    "6:          agenda  = Stack()\n",
    "7:  \n",
    "8:          firstNode = Node(source, 0, 0, None)\n",
    "9:          agenda.push(firstNode)\n",
    "10:  \n",
    "11:          # DFS Loop\n",
    "12:          while not(agenda.isEmpty()):\n",
    "13:              node = agenda.pop()\n",
    "14:  \n",
    "15:              if node.state == goal:\n",
    "16:                  self._goal = node # remeber the goal node\n",
    "17:                  self._found = True\n",
    "18:                  break # exist the loop\n",
    "19:              \n",
    "20:              # put the successor nodes in the stack.\n",
    "21:              for successor in graph.adj(node.state):\n",
    "22:  \n",
    "23:                  # ctreate a sucessor node (sN)\n",
    "24:                  sN = Node(successor, node.depth + 1, node.cost + 1, node)\n",
    "25:                  agenda.push(sN)\n",
    "```\n",
    "\n",
    "Suppose you run `DFSPath` on any (*undirected*) graph. In that case, likely, it will _**never**_ return a solution (i. e., a path) because the given implementation of the DFS algorithm will run into an *infinite* loop. _**Your goal is to figure out what is missing in the code and add it. Next, write the client code for DFSPath in the cell below to test your code.**_"
   ]
  },
  {
   "cell_type": "code",
   "execution_count": 21,
   "metadata": {},
   "outputs": [
    {
     "name": "stdout",
     "output_type": "stream",
     "text": [
      "Path: 0 -> 6 -> 4\n"
     ]
    }
   ],
   "source": [
    "### START CODE HERE  (Activity 10) ###\n",
    "\n",
    "# import the necessary libraries (two lines)\n",
    "from stdlib import Graph\n",
    "from search.graph import DFSPath\n",
    "\n",
    "# read a graph from a file (one line)\n",
    "# graph = Graph(filename=\"data/graph/mediumG.txt\")\n",
    "graph = Graph(filename=\"data/graph/tinyG.txt\")\n",
    "\n",
    "# create a DFS path object (one line)\n",
    "# try to find a path in graph from 0 to 4\n",
    "path = DFSPath(graph, 0, 4)\n",
    "\n",
    "# try to find a path in graph from 4 to 0\n",
    "# path = DFSPath(graph, 4, 0)\n",
    "\n",
    "# try to find a path in graph from 7 to 0\n",
    "# path = DFSPath(graph, 0, 7)\n",
    "\n",
    "# try to find a path in graph from 12 to 10\n",
    "# path = DFSPath(graph, 12, 10)\n",
    "\n",
    "# print the result (4 lines)\n",
    "if path.found:\n",
    "    path.print_solution() # print the path\n",
    "else:\n",
    "    print(\"No path found\")\n",
    "\n",
    "### END CODE HERE ###"
   ]
  },
  {
   "cell_type": "markdown",
   "metadata": {},
   "source": [
    "## Acknowledgement\n",
    "\n",
    "Preparation of this lab material would not have been possible without  the adaptation code and content from [Sedgwick and Wayne (2011)](#ref1).  The author gratefully acknowledges the work of the authors cited while assuming complete responsibility for any mistake introduced in the adaptation."
   ]
  },
  {
   "cell_type": "markdown",
   "metadata": {},
   "source": [
    "## References\n",
    "\n",
    "* <a class=\"anchor\" id=\"ref1\"></a>Sedgewick, R. and Wayne, K. (2011). Algorithms, 4th Edition. Addison-Wesley"
   ]
  }
 ],
 "metadata": {
  "kernelspec": {
   "display_name": "Python 3 (ipykernel)",
   "language": "python",
   "name": "python3"
  },
  "language_info": {
   "codemirror_mode": {
    "name": "ipython",
    "version": 3
   },
   "file_extension": ".py",
   "mimetype": "text/x-python",
   "name": "python",
   "nbconvert_exporter": "python",
   "pygments_lexer": "ipython3",
   "version": "3.11.0"
  }
 },
 "nbformat": 4,
 "nbformat_minor": 2
}
